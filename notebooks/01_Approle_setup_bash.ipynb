{
 "cells": [
  {
   "cell_type": "code",
   "execution_count": 18,
   "id": "f1c3596e-7562-45bd-a069-bf50f435cedf",
   "metadata": {},
   "outputs": [],
   "source": [
    "export VAULT_ADDR=http://127.0.0.1:8200\n",
    "export VAULT_TOKEN=hvs.4O3Nh0I75YUMdZZS99cJt8xk"
   ]
  },
  {
   "cell_type": "code",
   "execution_count": 3,
   "id": "e5aa8ab0-6be2-4355-b7d9-06224a6bfea8",
   "metadata": {},
   "outputs": [],
   "source": [
    "export VAULT_ADDR=https://hcp-vault-demo-public-vault-2dcafd46.31fd811f.z1.hashicorp.cloud:8200\n",
    "export VAULT_NAMESPACE=admin\n",
    "export VAULT_TOKEN="
   ]
  },
  {
   "cell_type": "code",
   "execution_count": 2,
   "id": "6eac9aea-cdcd-4f90-8145-d8ef4eb85413",
   "metadata": {},
   "outputs": [
    {
     "name": "stdout",
     "output_type": "stream",
     "text": [
      "\u001b[0mPath             Type         Accessor              Description\n",
      "----             ----         --------              -----------\n",
      "cubbyhole/       cubbyhole    cubbyhole_61d03630    per-token private secret storage\n",
      "database/        database     database_cfd75db5     n/a\n",
      "identity/        identity     identity_8c3e7aa9     identity store\n",
      "keymgmt/         keymgmt      keymgmt_04b1cf66      n/a\n",
      "kmip/            kmip         kmip_6991a9c4         n/a\n",
      "mySecretKeys/    kv           kv_951b1649           Demo of key:value engine\n",
      "secret/          kv           kv_c4e09013           n/a\n",
      "sys/             system       system_74f73723       system endpoints used for control, policy and debugging\n",
      "terraform/       database     database_db15a4af     n/a\u001b[0m\n"
     ]
    }
   ],
   "source": [
    "vault secrets list"
   ]
  },
  {
   "cell_type": "code",
   "execution_count": 3,
   "id": "23744091-9654-41eb-af77-63a8cd5e617f",
   "metadata": {},
   "outputs": [
    {
     "name": "stdout",
     "output_type": "stream",
     "text": [
      "\u001b[0m====== Secret Path ======\u001b[0m\n",
      "\u001b[0msecret/data/mysql/webapp\u001b[0m\n",
      "\u001b[0m\u001b[0m\n",
      "\u001b[0m======= Metadata =======\u001b[0m\n",
      "\u001b[0mKey                Value\n",
      "---                -----\n",
      "created_time       2023-08-22T20:56:09.829415678Z\n",
      "custom_metadata    <nil>\n",
      "deletion_time      n/a\n",
      "destroyed          false\n",
      "version            1\u001b[0m\n"
     ]
    }
   ],
   "source": [
    "vault kv put secret/mysql/webapp db_name=\"users\" username=\"admin\" password=\"passw0rd\""
   ]
  },
  {
   "cell_type": "code",
   "execution_count": 4,
   "id": "fea52946-3227-4251-aac2-c0e302292b46",
   "metadata": {},
   "outputs": [
    {
     "name": "stdout",
     "output_type": "stream",
     "text": [
      "\u001b[0mPath                  Type        Accessor                  Description                Version\n",
      "----                  ----        --------                  -----------                -------\n",
      "approle_pipelines/    approle     auth_approle_3b30230e     n/a                        n/a\n",
      "github/               github      auth_github_d77548a3      n/a                        n/a\n",
      "jwt/                  jwt         auth_jwt_ec000899         n/a                        n/a\n",
      "token/                token       auth_token_02aa59c9       token based credentials    n/a\n",
      "userpass/             userpass    auth_userpass_36fa77d3    n/a                        n/a\u001b[0m\n"
     ]
    }
   ],
   "source": [
    "vault auth list"
   ]
  },
  {
   "cell_type": "code",
   "execution_count": 5,
   "id": "c2f5ad0b-1294-4b14-bb7f-72c2c8274543",
   "metadata": {},
   "outputs": [
    {
     "name": "stdout",
     "output_type": "stream",
     "text": [
      "\u001b[0mSuccess! Enabled approle auth method at: approle/\u001b[0m\n"
     ]
    }
   ],
   "source": [
    "vault auth enable approle"
   ]
  },
  {
   "cell_type": "code",
   "execution_count": 6,
   "id": "41eb20be-4160-4833-a1f2-7bfe0d1f7f54",
   "metadata": {},
   "outputs": [
    {
     "name": "stdout",
     "output_type": "stream",
     "text": [
      "\u001b[0mSuccess! Uploaded policy: github_actions\u001b[0m\n"
     ]
    }
   ],
   "source": [
    "vault policy write github_actions -<<EOF\n",
    "# Read-only permission on secrets stored at 'secret/data/mysql/webapp'\n",
    "path \"secret/data/mysql/webapp\" {\n",
    "  capabilities = [ \"read\" ]\n",
    "}\n",
    "EOF\n"
   ]
  },
  {
   "cell_type": "code",
   "execution_count": 7,
   "id": "8e3e0e7f-2c2f-48a9-befa-a0dd2a79ed04",
   "metadata": {},
   "outputs": [
    {
     "name": "stdout",
     "output_type": "stream",
     "text": [
      "\u001b[0mSuccess! Data written to: auth/approle/role/github_actions\u001b[0m\n"
     ]
    }
   ],
   "source": [
    "vault write auth/approle/role/github_actions token_policies=\"github_actions\" \\\n",
    "    token_ttl=1h token_max_ttl=4h\n"
   ]
  },
  {
   "cell_type": "code",
   "execution_count": 8,
   "id": "8160961f-fd84-42d8-9137-b8371271b122",
   "metadata": {},
   "outputs": [
    {
     "name": "stdout",
     "output_type": "stream",
     "text": [
      "\u001b[0mKey                        Value\n",
      "---                        -----\n",
      "bind_secret_id             true\n",
      "local_secret_ids           false\n",
      "secret_id_bound_cidrs      <nil>\n",
      "secret_id_num_uses         0\n",
      "secret_id_ttl              0s\n",
      "token_bound_cidrs          []\n",
      "token_explicit_max_ttl     0s\n",
      "token_max_ttl              4h\n",
      "token_no_default_policy    false\n",
      "token_num_uses             0\n",
      "token_period               0s\n",
      "token_policies             [github_actions]\n",
      "token_ttl                  1h\n",
      "token_type                 default\u001b[0m\n"
     ]
    }
   ],
   "source": [
    "vault read auth/approle/role/github_actions"
   ]
  },
  {
   "cell_type": "code",
   "execution_count": 10,
   "id": "f49f0774-3643-4ace-a21d-bb4316490cfa",
   "metadata": {},
   "outputs": [
    {
     "name": "stdout",
     "output_type": "stream",
     "text": [
      "\u001b[0mKey        Value\n",
      "---        -----\n",
      "role_id    3d517b01-8bac-3bf7-e189-80bdcb67a119\u001b[0m\n"
     ]
    }
   ],
   "source": [
    "vault read auth/approle/role/github_actions/role-id"
   ]
  },
  {
   "cell_type": "code",
   "execution_count": 11,
   "id": "3fb4c213-6cd4-4b35-9855-64c4e127969e",
   "metadata": {},
   "outputs": [
    {
     "name": "stdout",
     "output_type": "stream",
     "text": [
      "\u001b[0mKey                   Value\n",
      "---                   -----\n",
      "secret_id             0f2d6d06-b634-e0a2-d8d6-dddc1579acec\n",
      "secret_id_accessor    ebb1fa73-68db-82ef-8758-45e06d6f015c\n",
      "secret_id_num_uses    0\n",
      "secret_id_ttl         0s\u001b[0m\n"
     ]
    }
   ],
   "source": [
    "vault write -force auth/approle/role/github_actions/secret-id"
   ]
  },
  {
   "cell_type": "code",
   "execution_count": 12,
   "id": "e9f1ec19-2891-439e-9b48-65e8421508c6",
   "metadata": {},
   "outputs": [
    {
     "name": "stdout",
     "output_type": "stream",
     "text": [
      "\u001b[0mKey                   Value\n",
      "---                   -----\n",
      "secret_id             6958ad1e-e071-77ef-5282-832fd2612d5d\n",
      "secret_id_accessor    f387b9cd-1b90-0427-2511-f08675279c38\n",
      "secret_id_num_uses    0\n",
      "secret_id_ttl         0s\u001b[0m\n"
     ]
    }
   ],
   "source": [
    "vault write -force auth/approle/role/github_actions/secret-id"
   ]
  },
  {
   "cell_type": "code",
   "execution_count": 13,
   "id": "ac0709ce-f715-4404-8deb-a7028dcc78b4",
   "metadata": {},
   "outputs": [
    {
     "name": "stdout",
     "output_type": "stream",
     "text": [
      "\u001b[0mKey                   Value\n",
      "---                   -----\n",
      "secret_id             208d5a94-352c-2f73-9c8a-026536d2294a\n",
      "secret_id_accessor    0d8da848-59e4-379f-32eb-d8c96eebf42c\n",
      "secret_id_num_uses    0\n",
      "secret_id_ttl         0s\u001b[0m\n"
     ]
    }
   ],
   "source": [
    "vault write -force auth/approle/role/github_actions/secret-id"
   ]
  },
  {
   "cell_type": "code",
   "execution_count": 14,
   "id": "5d68c452-967d-4ec0-a1ea-742f684ccc5d",
   "metadata": {},
   "outputs": [
    {
     "name": "stdout",
     "output_type": "stream",
     "text": [
      "\u001b[0mSuccess! Uploaded policy: jenkins\u001b[0m\n"
     ]
    }
   ],
   "source": [
    "vault policy write jenkins -<<EOF\n",
    "# Read-only permission on secrets stored at 'secret/data/mysql/webapp'\n",
    "path \"secret/data/mysql/webapp\" {\n",
    "  capabilities = [ \"read\" ]\n",
    "}\n",
    "EOF\n"
   ]
  },
  {
   "cell_type": "code",
   "execution_count": 15,
   "id": "39c1c2a3-e004-4d0e-b1fa-e18e8e86984f",
   "metadata": {},
   "outputs": [
    {
     "name": "stdout",
     "output_type": "stream",
     "text": [
      "\u001b[0mSuccess! Data written to: auth/approle/role/jenkins\u001b[0m\n"
     ]
    }
   ],
   "source": [
    "vault write auth/approle/role/jenkins token_policies=\"jenkins\" \\\n",
    "    token_ttl=1h token_max_ttl=4h\n"
   ]
  },
  {
   "cell_type": "code",
   "execution_count": 16,
   "id": "532249d4-7e7d-436c-b69b-52461412a778",
   "metadata": {},
   "outputs": [
    {
     "name": "stdout",
     "output_type": "stream",
     "text": [
      "\u001b[0mKey                   Value\n",
      "---                   -----\n",
      "secret_id             26c2b11e-330f-1226-fe9e-0bac862016c5\n",
      "secret_id_accessor    8bc60279-a7d9-ad7b-d938-0ff8fbcc4f7f\n",
      "secret_id_num_uses    0\n",
      "secret_id_ttl         0s\u001b[0m\n"
     ]
    }
   ],
   "source": [
    "vault write -force auth/approle/role/jenkins/secret-id"
   ]
  },
  {
   "cell_type": "code",
   "execution_count": 17,
   "id": "24a43475-1954-4fbb-9e24-011f586b6dfa",
   "metadata": {},
   "outputs": [
    {
     "name": "stdout",
     "output_type": "stream",
     "text": [
      "\u001b[0mKey                   Value\n",
      "---                   -----\n",
      "secret_id             5f3a118e-9bc3-b888-dc5d-28b70e672cd6\n",
      "secret_id_accessor    0e8970dc-92cb-4b67-f2ed-1a5dc217c334\n",
      "secret_id_num_uses    0\n",
      "secret_id_ttl         0s\u001b[0m\n"
     ]
    }
   ],
   "source": [
    "vault write -force auth/approle/role/jenkins/secret-id"
   ]
  },
  {
   "cell_type": "code",
   "execution_count": null,
   "id": "a07f98d4-d17e-4f16-8515-71c025c75e50",
   "metadata": {},
   "outputs": [],
   "source": []
  }
 ],
 "metadata": {
  "kernelspec": {
   "display_name": "Bash",
   "language": "bash",
   "name": "bash"
  },
  "language_info": {
   "codemirror_mode": "shell",
   "file_extension": ".sh",
   "mimetype": "text/x-sh",
   "name": "bash"
  }
 },
 "nbformat": 4,
 "nbformat_minor": 5
}

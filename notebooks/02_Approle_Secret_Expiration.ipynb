{
 "cells": [
  {
   "cell_type": "markdown",
   "id": "f9cdcb76-069e-4dfa-a45b-bd2d9a202a0c",
   "metadata": {},
   "source": [
    "# Vault Approle Secret ID Expiration reporting"
   ]
  },
  {
   "cell_type": "markdown",
   "id": "065ec813-99cf-445b-bef1-bfca13dce40c",
   "metadata": {},
   "source": [
    "## Algorithm\n",
    "List AppRoles\n",
    "\n",
    "For each approle:\n",
    "\tList secret_id accessor\n",
    "\n",
    "For each accessor\n",
    "\tFind expiration date.\n",
    "\n",
    "Print row to csv file {approle, accessor, expiration}"
   ]
  },
  {
   "cell_type": "code",
   "execution_count": 15,
   "id": "2c149490-709f-492a-a24f-2b53ed2e0455",
   "metadata": {},
   "outputs": [],
   "source": [
    "import os\n",
    "import requests\n",
    "from pprint import pprint\n",
    "import csv"
   ]
  },
  {
   "cell_type": "code",
   "execution_count": 2,
   "id": "10debd12-47d4-4474-8cc9-fcc1a965d85c",
   "metadata": {},
   "outputs": [],
   "source": [
    "# Set my environment\n",
    "os.environ['VAULT_ADDR'] =  'http://127.0.0.1:8200'\n",
    "os.environ['VAULT_TOKEN'] = ''\n"
   ]
  },
  {
   "cell_type": "code",
   "execution_count": 3,
   "id": "e0a50a45-a996-44a5-90a7-c20af7158c44",
   "metadata": {},
   "outputs": [],
   "source": [
    "# Environment Variables Should be set ahead of time\n",
    "token = os.getenv('VAULT_TOKEN')\n",
    "base_url = os.getenv('VAULT_ADDR')"
   ]
  },
  {
   "cell_type": "code",
   "execution_count": 50,
   "id": "fd787a4b-78c0-450b-96fd-d1b766c3a0fa",
   "metadata": {
    "scrolled": true
   },
   "outputs": [
    {
     "name": "stdout",
     "output_type": "stream",
     "text": [
      "CSV file generated: secret_id_data.csv\n"
     ]
    }
   ],
   "source": [
    "# Build Auth Lookup Table\n",
    "auth_url = f\"{base_url}/v1/sys/auth\"\n",
    "headers = {\n",
    "    \"X-Vault-Token\": token,\n",
    "    \"accept\": \"*/*\"\n",
    "}\n",
    "\n",
    "auth_lookup = {}\n",
    "response = requests.get(auth_url, headers=headers)\n",
    "data = response.json()\n",
    "for path, auth_info in data.items():\n",
    "    if isinstance(auth_info, dict) and 'accessor' in auth_info and 'type' in auth_info:\n",
    "        accessor = auth_info['accessor']\n",
    "        auth_type = auth_info['type']\n",
    "        auth_lookup[accessor] = {\"path\": path, \"type\": auth_type}\n",
    "\n",
    "# Find all the approles\n",
    "approles = {key: value for key, value in auth_lookup.items() if value['type'] == 'approle'}\n",
    "\n",
    "# Get roles for each approle\n",
    "role_url_template = f\"{base_url}/v1/auth/{{auth_path}}role?list=true\"\n",
    "\n",
    "for approle_name, approle_info in approles.items():\n",
    "    auth_path = approle_info['path']\n",
    "    role_url = role_url_template.format(auth_path=auth_path)\n",
    "    response = requests.get(role_url, headers=headers)\n",
    "    role_data = response.json()\n",
    "\n",
    "    roles = role_data.get('data', {}).get('keys', [])\n",
    "    approle_info['roles'] = roles\n",
    "\n",
    "    for role_name in roles:\n",
    "        accessor_url = f\"{base_url}/v1/auth/{auth_path}role/{role_name}/secret-id?list=true\"\n",
    "        response = requests.get(accessor_url, headers=headers)\n",
    "        accessor_data = response.json()\n",
    "\n",
    "        accessors = accessor_data.get('data', {}).get('keys', [])\n",
    "        approle_info.setdefault('secret_id_accessors', {})[role_name] = accessors\n",
    "\n",
    "# pprint(approles)\n",
    "\n",
    "# Get the Secret-ID data\n",
    "secret_id_url_template = f\"{base_url}/v1/auth/{{auth_path}}role/{{role_name}}/secret-id-accessor/lookup\"\n",
    "\n",
    "for approle_name, approle_info in approles.items():\n",
    "    auth_path = approle_info['path']\n",
    "    secret_id_accessors = approle_info.get('secret_id_accessors', {})\n",
    "    \n",
    "    for role_name, accessors in secret_id_accessors.items():\n",
    "        for accessor in accessors:\n",
    "            secret_id_url = secret_id_url_template.format(auth_path=auth_path, role_name=role_name)\n",
    "            data = {\n",
    "                \"secret_id_accessor\": accessor\n",
    "            }\n",
    "            response = requests.post(secret_id_url, json=data, headers=headers)\n",
    "            secret_data = response.json()\n",
    "            \n",
    "            approle_info.setdefault('secret_id_data', {}).setdefault(role_name, {})[accessor] = secret_data\n",
    "\n",
    "# pprint(approles)\n",
    "\n",
    "# Create and write CSV file\n",
    "csv_filename = \"secret_id_data.csv\"\n",
    "csv_columns = [\"accessor\", \"auth_path\", \"auth_type\", \"role\", \"secret_id_accessor\", \"creation_time\", \"expiration_time\", \"last_updated_time\", \"metadata\"]\n",
    "\n",
    "with open(csv_filename, \"w\", newline=\"\") as csv_file:\n",
    "    writer = csv.DictWriter(csv_file, fieldnames=csv_columns)\n",
    "    writer.writeheader()\n",
    "\n",
    "    for approle_name, approle_info in approles.items():\n",
    "        auth_path = approle_info['path']\n",
    "        secret_id_data = approle_info.get('secret_id_data', {})\n",
    "\n",
    "        for role_name, accessor_data in secret_id_data.items():\n",
    "            for accessor, data in accessor_data.items():\n",
    "                row = {\n",
    "                    \"accessor\": accessor,\n",
    "                    \"auth_path\": auth_path,\n",
    "                    \"auth_type\": approle_info['type'],\n",
    "                    \"role\": role_name,\n",
    "                    \"secret_id_accessor\": accessor,\n",
    "                    \"creation_time\": data['data']['creation_time'],\n",
    "                    \"expiration_time\": data['data']['expiration_time'],\n",
    "                    \"last_updated_time\": data['data']['last_updated_time'],\n",
    "                    \"metadata\": data['data']['metadata']\n",
    "                }\n",
    "                writer.writerow(row)\n",
    "\n",
    "print(\"CSV file generated:\", csv_filename)\n"
   ]
  }
 ],
 "metadata": {
  "kernelspec": {
   "display_name": "Python 3 (ipykernel)",
   "language": "python",
   "name": "python3"
  },
  "language_info": {
   "codemirror_mode": {
    "name": "ipython",
    "version": 3
   },
   "file_extension": ".py",
   "mimetype": "text/x-python",
   "name": "python",
   "nbconvert_exporter": "python",
   "pygments_lexer": "ipython3",
   "version": "3.8.16"
  }
 },
 "nbformat": 4,
 "nbformat_minor": 5
}
